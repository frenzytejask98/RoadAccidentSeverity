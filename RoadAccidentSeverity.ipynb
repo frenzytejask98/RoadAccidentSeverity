{
  "cells": [
    {
      "metadata": {
        "_cell_guid": "b1076dfc-b9ad-4769-8c92-a6c4dae69d19",
        "_uuid": "8f2839f25d086af736a60e9eeb907d3b93b6e0e5",
        "trusted": true
      },
      "cell_type": "code",
      "source": "import numpy as np\nimport pandas as pd\n\n#Visualisation Libraries\nimport matplotlib.pyplot as plt\n%matplotlib inline\nimport warnings\nwarnings.filterwarnings('ignore')\nimport seaborn as sns\nfrom pandas.plotting import scatter_matrix\n\n#Training and Preprocessing Libraries\nfrom xgboost import XGBClassifier\nfrom imblearn.ensemble import EasyEnsembleClassifier\nfrom sklearn.model_selection import cross_val_score\nfrom sklearn.model_selection import train_test_split\nfrom sklearn.preprocessing import LabelEncoder\nfrom sklearn.metrics import roc_auc_score",
      "execution_count": null,
      "outputs": []
    },
    {
      "metadata": {
        "_uuid": "a6950179c6d0f0ebc8828d2859491a9f1e1d26ce",
        "trusted": true
      },
      "cell_type": "code",
      "source": "class_names = ['Fatal', 'Severe', 'Slight']",
      "execution_count": null,
      "outputs": []
    },
    {
      "metadata": {
        "_cell_guid": "79c7e3d0-c299-4dcb-8224-4455121ee9b0",
        "_uuid": "d629ff2d2480ee46fbb7e2d37f6b5fab8052498a",
        "trusted": true
      },
      "cell_type": "code",
      "source": "data1 = pd.read_csv(\"../input/accidents_2005_to_2007.csv\")\ndata2 = pd.read_csv(\"../input/accidents_2009_to_2011.csv\")\ndata3 = pd.read_csv(\"../input/accidents_2012_to_2014.csv\")",
      "execution_count": null,
      "outputs": []
    },
    {
      "metadata": {
        "trusted": true,
        "_uuid": "29b213534cb14cb55fefd93f8f0d9b55c43d3cbe"
      },
      "cell_type": "code",
      "source": "data = pd.concat([data1, data2, data3])",
      "execution_count": null,
      "outputs": []
    },
    {
      "metadata": {
        "trusted": true,
        "_uuid": "e75c3a006c2fd141df4baccbc41f25db153fde87"
      },
      "cell_type": "code",
      "source": "def max_val(s):\n    is_max = s == s.max()\n    return ['background-color: yellow' if v else '' for v in is_max]\n\nyear_wise_casualties = data.groupby(['Year'])['Number_of_Casualties'].sum()\nyear_wise_casualties = year_wise_casualties.reset_index()\nyear_wise_casualties = year_wise_casualties.style.apply(max_val, axis=0)\nyear_wise_casualties",
      "execution_count": null,
      "outputs": []
    },
    {
      "metadata": {
        "trusted": true,
        "_uuid": "8127a6d1d858f7ccba5c8989ca7377e46d589ced"
      },
      "cell_type": "code",
      "source": "cas_table = data.groupby(['Day_of_Week']).agg({'Number_of_Casualties':['sum'],'Speed_limit':['min','max']})\ncas_table = cas_table.sort_values([('Number_of_Casualties','sum')],ascending=False)\ncas_table = cas_table.reset_index()\ncas_table.style.apply(max_val)",
      "execution_count": null,
      "outputs": []
    },
    {
      "metadata": {
        "trusted": true,
        "_uuid": "259cde23f5d5f3e129801586287b0820e9275ba3"
      },
      "cell_type": "code",
      "source": "corr_matrix = data.corr()\ncorr_matrix[\"Accident_Severity\"].sort_values(ascending=False)",
      "execution_count": null,
      "outputs": []
    },
    {
      "metadata": {
        "trusted": true,
        "_uuid": "568f4b451de28976f31de4d0ec3f457731a59d79"
      },
      "cell_type": "code",
      "source": "data.hist(bins=50, figsize=(20,15))\nplt.show()",
      "execution_count": null,
      "outputs": []
    },
    {
      "metadata": {
        "trusted": true,
        "_uuid": "eefa0bf4b96cb2bee4471f3ac09daef6bf8acee8"
      },
      "cell_type": "code",
      "source": "fig = data.plot(kind=\"scatter\", x=\"Longitude\", y=\"Latitude\", alpha=0.6,\n                   figsize=(18,11),c=\"Accident_Severity\", cmap=plt.get_cmap(\"inferno\"), \n                   colorbar=True,)",
      "execution_count": null,
      "outputs": []
    },
    {
      "metadata": {
        "trusted": true,
        "_uuid": "370a89121af23c7b3f04ad03c1af643066c77cc2"
      },
      "cell_type": "code",
      "source": "attributes = [\"Number_of_Vehicles\",\"Number_of_Casualties\", \"Time\", \"Road_Type\", \"Pedestrian_Crossing-Human_Control\", \"Pedestrian_Crossing-Physical_Facilities\", \"Light_Conditions\", \"Weather_Conditions\", \"Road_Surface_Conditions\",\"Accident_Severity\"]\nscatter_matrix(data[attributes], figsize=(10, 10))",
      "execution_count": null,
      "outputs": []
    },
    {
      "metadata": {
        "_uuid": "1082105649f52da44264557fdb54fe0ff8265ee6",
        "trusted": true
      },
      "cell_type": "code",
      "source": "def preprocessing(data):\n    #Drop useless columns and nan values\n    data.drop(['Police_Force', 'Junction_Detail', 'Junction_Control', 'Special_Conditions_at_Site', 'Carriageway_Hazards', 'Did_Police_Officer_Attend_Scene_of_Accident', 'LSOA_of_Accident_Location', 'Local_Authority_(District)', 'Local_Authority_(Highway)'], axis=1, inplace=True)\n    data.dropna(inplace=True)\n    \n    #Drop rows with 'Unknown' values\n    data = data[data.Weather_Conditions!='Unknown']\n    data = data[data.Road_Type!='Unknown']\n    \n    #Encode \"String\" Labels into \"Int\" Labels for easy training\n    le = LabelEncoder()\n    data[\"Pedestrian_Crossing-Physical_Facilities\"]= le.fit_transform(data[\"Pedestrian_Crossing-Physical_Facilities\"])\n    data[\"Light_Conditions\"]= le.fit_transform(data[\"Light_Conditions\"])\n    data[\"Weather_Conditions\"] = le.fit_transform(data[\"Weather_Conditions\"])\n    data[\"Road_Surface_Conditions\"] = le.fit_transform(data[\"Road_Surface_Conditions\"])\n    data[\"Pedestrian_Crossing-Human_Control\"] = le.fit_transform(data[\"Pedestrian_Crossing-Human_Control\"])\n    data[\"Road_Type\"] = le.fit_transform(data[\"Road_Type\"])\n    \n    #Converting Time into Int for easy training\n    data[\"Time\"]= data[\"Time\"].astype(str)\n    data['Time']=data['Time'].str.slice(0,2, 1)\n    data[\"Time\"]= data[\"Time\"].astype(int)\n    \n    #Creating 3 additional columns, one each for each class we need to classify into\n    onehot = pd.get_dummies(data.Accident_Severity,prefix=['Severity'])\n    data[\"Fatal\"] = onehot[\"['Severity']_1\"]\n    data[\"Severe\"] = onehot[\"['Severity']_2\"]\n    data[\"Slight\"] = onehot[\"['Severity']_3\"]\n    \n    #Finally splitting the data into train and test\n    train,test = train_test_split(data,test_size=.25)\n    \n    return (train,test)",
      "execution_count": null,
      "outputs": []
    },
    {
      "metadata": {
        "trusted": true,
        "_uuid": "c3253b1e39d82c77881c0f70252c9285ed3fa2c4"
      },
      "cell_type": "code",
      "source": "train,test = preprocessing(data)",
      "execution_count": null,
      "outputs": []
    },
    {
      "metadata": {
        "_uuid": "330184e56bb97f201c23bc9e86418d0b406e4dfb",
        "trusted": true
      },
      "cell_type": "code",
      "source": "train_features = train[[\"Number_of_Vehicles\",\"Number_of_Casualties\", \"Day_of_Week\", \"Time\", \"Road_Type\", \"Speed_limit\", \"Pedestrian_Crossing-Human_Control\", \"Pedestrian_Crossing-Physical_Facilities\", \"Light_Conditions\", \"Weather_Conditions\", \"Road_Surface_Conditions\",\"Year\", \"Urban_or_Rural_Area\"]]\ntest_features =test[[\"Number_of_Vehicles\",\"Number_of_Casualties\", \"Day_of_Week\", \"Time\", \"Road_Type\", \"Speed_limit\", \"Pedestrian_Crossing-Human_Control\", \"Pedestrian_Crossing-Physical_Facilities\", \"Light_Conditions\", \"Weather_Conditions\", \"Road_Surface_Conditions\",\"Year\", \"Urban_or_Rural_Area\"]]",
      "execution_count": null,
      "outputs": []
    },
    {
      "metadata": {
        "_uuid": "c42aed33d896492f10dd69618adc49c32bc0564f",
        "trusted": true
      },
      "cell_type": "code",
      "source": "def model():\n    scores=[]\n    acc_score=[]\n    submission = pd.DataFrame.from_dict({'Accident_Index': test['Accident_Index']})\n    classifier = EasyEnsembleClassifier(n_estimators=12, base_estimator=XGBClassifier(max_depth=4, learning_rate=0.2, n_estimators=600, silent=True,\n                        subsample = 0.8,\n                        gamma=0.5,\n                        min_child_weight=10,\n                        objective='binary:logistic',\n                        colsample_bytree = 0.6,\n                        max_delta_step = 1,\n                        nthreads=1,\n                        n_jobs=1))\n    \n    for class_name in class_names:\n        train_target = train[class_name]\n\n        cv_score = np.mean(cross_val_score(\n            classifier, train_features, train_target, cv=3, scoring='roc_auc'))\n        scores.append(cv_score)\n        print('CV score for class {} is {}'.format(class_name, cv_score))\n\n        classifier.fit(train_features, train_target)\n        \n        submission[class_name] = classifier.predict_proba(test_features)[:, 1]\n        acc = roc_auc_score(test[class_name],submission[class_name])\n        acc_score.append(acc)\n        print('Mean accuracy for class {} is {}'.format(class_name,acc))\n    \n    return (scores,acc_score)\ncv, acc = model()",
      "execution_count": null,
      "outputs": []
    },
    {
      "metadata": {
        "_uuid": "c07f43c91b520c37c831ec9af1382cdc642d31c8",
        "trusted": true
      },
      "cell_type": "code",
      "source": "print('Total CV score is {}'.format(np.mean(cv)))\nprint('Total accuracy score is {}'.format(np.mean(acc)))",
      "execution_count": null,
      "outputs": []
    }
  ],
  "metadata": {
    "kernelspec": {
      "display_name": "Python 3",
      "language": "python",
      "name": "python3"
    },
    "language_info": {
      "name": "python",
      "version": "3.6.6",
      "mimetype": "text/x-python",
      "codemirror_mode": {
        "name": "ipython",
        "version": 3
      },
      "pygments_lexer": "ipython3",
      "nbconvert_exporter": "python",
      "file_extension": ".py"
    }
  },
  "nbformat": 4,
  "nbformat_minor": 1
}